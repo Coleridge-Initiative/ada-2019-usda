{
 "cells": [
  {
   "cell_type": "markdown",
   "metadata": {
    "toc-hr-collapsed": false
   },
   "source": [
    "# Sample Project 2: Do WIC households purchase similar foods compared to households that do not participate in the WIC program but are eligible?\n",
    "---"
   ]
  },
  {
   "cell_type": "markdown",
   "metadata": {
    "toc-hr-collapsed": false
   },
   "source": [
    "### Notebook Setup"
   ]
  },
  {
   "cell_type": "code",
   "execution_count": null,
   "metadata": {},
   "outputs": [],
   "source": [
    "# pandas-related imports\n",
    "import pandas as pd\n",
    "\n",
    "# database interaction imports\n",
    "from pyathenajdbc import connect\n",
    "\n",
    "# visualization\n",
    "import matplotlib as plt\n",
    "%matplotlib inline\n",
    "\n",
    "# to use weights\n",
    "from statsmodels.stats.weightstats import DescrStatsW"
   ]
  },
  {
   "cell_type": "code",
   "execution_count": null,
   "metadata": {},
   "outputs": [],
   "source": [
    "# connection to the database\n",
    "conn = connect(s3_staging_dir = 's3://usda-iri-2019-queryresults/',\n",
    "               region_name = 'us-gov-west-1',\n",
    "               LogLevel = '0',\n",
    "               workgroup = 'workgroup-iri_usda')"
   ]
  },
  {
   "cell_type": "markdown",
   "metadata": {
    "toc-hr-collapsed": true
   },
   "source": [
    "## Define Cohort"
   ]
  },
  {
   "cell_type": "markdown",
   "metadata": {},
   "source": [
    "Since the sample project's question focuses exclusively on the difference in 100% whole wheat bread purchases between WIC-participant and WIC-eligible households in 2017, we will restrict our study cohort to just households who were either WIC participants or WIC-eligible in 2017 and had sufficient purchasing data. Luckily, the demographic table limited to this cohort has already been created in the `project_q2_cohort` table within the `iri_usda_2019_db` database, so we will begin by analyzing this table."
   ]
  },
  {
   "cell_type": "markdown",
   "metadata": {
    "toc-hr-collapsed": true
   },
   "source": [
    "## Data Exploration: "
   ]
  },
  {
   "cell_type": "markdown",
   "metadata": {},
   "source": [
    "### Review of 2nd Data Exploration Notebook"
   ]
  },
  {
   "cell_type": "markdown",
   "metadata": {},
   "source": [
    "The [second data exploration](02_01_Data_Exploration_Food_Expense.ipynb) notebook contains code that we will slightly alter here for our data exploration. Our main goal is to get a better sense of our cohort and their characteristics in ways that may impact our future analysis in the project."
   ]
  },
  {
   "cell_type": "code",
   "execution_count": null,
   "metadata": {},
   "outputs": [],
   "source": [
    "#check out project_q2_cohort\n",
    "qry = '''\n",
    "select *\n",
    "from iri_usda_2019_db.project_q2_cohort\n",
    "limit 10\n",
    "'''\n",
    "\n",
    "pd.read_sql(qry, conn)"
   ]
  },
  {
   "cell_type": "code",
   "execution_count": null,
   "metadata": {},
   "outputs": [],
   "source": [
    "# count total amount of rows\n",
    "qry = '''\n",
    "select count(*) as total_wic_and_eligible_count\n",
    "from iri_usda_2019_db.project_q2_cohort\n",
    "'''\n",
    "\n",
    "pd.read_sql(qry, conn)"
   ]
  },
  {
   "cell_type": "code",
   "execution_count": null,
   "metadata": {},
   "outputs": [],
   "source": [
    "# count total amount of WIC participants\n",
    "qry = '''\n",
    "select count(*) as wic_count\n",
    "from iri_usda_2019_db.project_q2_cohort\n",
    "where wic_june = 1\n",
    "'''\n",
    "\n",
    "pd.read_sql(qry, conn)"
   ]
  },
  {
   "cell_type": "code",
   "execution_count": null,
   "metadata": {},
   "outputs": [],
   "source": [
    "# count total amount of WIC-eligible households\n",
    "qry = '''\n",
    "select count(*) as wic_eligible_count\n",
    "from iri_usda_2019_db.project_q2_cohort\n",
    "where wic_june != 1\n",
    "'''\n",
    "\n",
    "pd.read_sql(qry, conn)"
   ]
  },
  {
   "cell_type": "markdown",
   "metadata": {},
   "source": [
    "### Visualization Important Distributions"
   ]
  },
  {
   "cell_type": "code",
   "execution_count": null,
   "metadata": {},
   "outputs": [],
   "source": [
    "qry = '''\n",
    "select *\n",
    "from iri_usda_2019_db.project_q2_cohort\n",
    "'''\n",
    "\n",
    "cohort = pd.read_sql(qry, conn)"
   ]
  },
  {
   "cell_type": "code",
   "execution_count": null,
   "metadata": {},
   "outputs": [],
   "source": [
    "wic = cohort[cohort['wic_june'] == 1]"
   ]
  },
  {
   "cell_type": "code",
   "execution_count": null,
   "metadata": {},
   "outputs": [],
   "source": [
    "wic_eligible = cohort[cohort['wic_june'] != 1]"
   ]
  },
  {
   "cell_type": "markdown",
   "metadata": {},
   "source": [
    "**Household size distribution in WIC and WIC-eligible households**"
   ]
  },
  {
   "cell_type": "markdown",
   "metadata": {},
   "source": [
    "Non-weighted distributions"
   ]
  },
  {
   "cell_type": "code",
   "execution_count": null,
   "metadata": {},
   "outputs": [],
   "source": [
    "wic_hhsize = wic.groupby('hhsize').size().reset_index().rename(columns={0:'count'})\n",
    "wic_eligible_hhsize = wic_eligible.groupby('hhsize').size().reset_index().rename(columns={0:'count'})"
   ]
  },
  {
   "cell_type": "code",
   "execution_count": null,
   "metadata": {},
   "outputs": [],
   "source": [
    "wic_hhsize.plot(x='hhsize', y='count', kind='bar', title='Household size distribution in WIC-households')\n",
    "wic_eligible_hhsize.plot(x='hhsize', y='count', kind='bar', title='Household size distribution in WIC-eligible households')"
   ]
  },
  {
   "cell_type": "markdown",
   "metadata": {},
   "source": [
    "Weighted distributions"
   ]
  },
  {
   "cell_type": "code",
   "execution_count": null,
   "metadata": {},
   "outputs": [],
   "source": [
    "weighted_wic_hhsize = DescrStatsW(wic.hhsize, weights=wic.projection61k)\n",
    "weighted_wic_hhsize.quantile([.1,.25,.5,.75,.9])"
   ]
  },
  {
   "cell_type": "code",
   "execution_count": null,
   "metadata": {},
   "outputs": [],
   "source": [
    "weighted_wic_eligible_hhsize = DescrStatsW(wic_eligible.hhsize, weights=wic_eligible.projection61k)\n",
    "weighted_wic_eligible_hhsize.quantile([.1,.25,.5,.75,.9])"
   ]
  },
  {
   "cell_type": "markdown",
   "metadata": {},
   "source": [
    "**Income distribution in WIC and WIC-eligible households**"
   ]
  },
  {
   "cell_type": "markdown",
   "metadata": {},
   "source": [
    "Non-weighted distributions"
   ]
  },
  {
   "cell_type": "code",
   "execution_count": null,
   "metadata": {},
   "outputs": [],
   "source": [
    "wic_hhinc = wic.groupby('hhinc').size().reset_index().rename(columns={0:'count'})\n",
    "wic_eligible_hhinc = wic_eligible.groupby('hhinc').size().reset_index().rename(columns={0:'count'})"
   ]
  },
  {
   "cell_type": "code",
   "execution_count": null,
   "metadata": {},
   "outputs": [],
   "source": [
    "wic_hhinc.plot(x='hhinc', y='count', kind='bar', title='Income distribution in WIC-households')\n",
    "wic_eligible_hhinc.plot(x='hhinc', y='count', kind='bar', title='Income distribution in WIC-eligible households')"
   ]
  },
  {
   "cell_type": "markdown",
   "metadata": {},
   "source": [
    "Weighted distributions"
   ]
  },
  {
   "cell_type": "code",
   "execution_count": null,
   "metadata": {},
   "outputs": [],
   "source": [
    "weighted_wic_hhinc = DescrStatsW(wic.hhinc, weights=wic.projection61k)\n",
    "weighted_wic_hhinc.quantile([.1,.25,.5,.75,.9])"
   ]
  },
  {
   "cell_type": "code",
   "execution_count": null,
   "metadata": {},
   "outputs": [],
   "source": [
    "weighted_wic_eligible_hhinc = DescrStatsW(wic_eligible.hhinc, weights=wic_eligible.projection61k)\n",
    "weighted_wic_eligible_hhinc.quantile([.1,.25,.5,.75,.9])"
   ]
  },
  {
   "cell_type": "markdown",
   "metadata": {},
   "source": [
    "## Join Tables"
   ]
  },
  {
   "cell_type": "markdown",
   "metadata": {},
   "source": [
    "### Household to Trip"
   ]
  },
  {
   "cell_type": "markdown",
   "metadata": {},
   "source": [
    "Now, let's find all of the purchasing data in 2017 for our cohort. After retreiving the data, we will be able to filter for just bread products. Since we are going to use this table later in our analysis, we will create a table `project_q2_purchases` in the `iri_usda_2019_db` database."
   ]
  },
  {
   "cell_type": "code",
   "execution_count": null,
   "metadata": {},
   "outputs": [],
   "source": [
    "# see existing table list\n",
    "table_list = pd.read_sql('show tables IN iri_usda_2019_db;', conn)\n",
    "print(table_list)\n",
    "\n",
    "# get a series of tab_name values\n",
    "s = pd.Series(list(table_list['tab_name']))"
   ]
  },
  {
   "cell_type": "code",
   "execution_count": null,
   "metadata": {},
   "outputs": [],
   "source": [
    "# create money spent per household table for WIC households with sufficient purchasing data in 2017\n",
    "if('project_q2_purchases' not in s.unique()):\n",
    "    query = \"\"\"\n",
    "    CREATE table iri_usda_2019_db.project_q2_purchases\n",
    "    WITH (\n",
    "    format = 'Parquet',\n",
    "    parquet_compression = 'SNAPPY'\n",
    "    )\n",
    "    AS\n",
    "    select trip.panid, trip.upc, trip.quantity, demo.wic_june\n",
    "    from iri_usda_2019_db.project_q2_cohort demo\n",
    "    left join iri_usda.trip_all trip\n",
    "    on trip.panid = demo.panid\n",
    "    where trip.year = '2017'\n",
    "    \"\"\"\n",
    "    with conn.cursor() as cursor:\n",
    "        cursor.execute(query)"
   ]
  },
  {
   "cell_type": "code",
   "execution_count": null,
   "metadata": {},
   "outputs": [],
   "source": [
    "#check to see if everyone was matched to purchase data"
   ]
  },
  {
   "cell_type": "code",
   "execution_count": null,
   "metadata": {},
   "outputs": [],
   "source": [
    "# check project_q2_purchases\n",
    "qry = '''\n",
    "select *\n",
    "from iri_usda_2019_db.project_q2_purchases\n",
    "limit 10\n",
    "'''\n",
    "\n",
    "pd.read_sql(qry, conn)"
   ]
  },
  {
   "cell_type": "markdown",
   "metadata": {},
   "source": [
    "### Trip data for our cohort to Product data"
   ]
  },
  {
   "cell_type": "markdown",
   "metadata": {},
   "source": [
    "To filter for just bread products, we will need to add the description and category corresponding to the upc code to our current table. In doing so, we will join the trip data for our cohort to `pd_master_all`."
   ]
  },
  {
   "cell_type": "code",
   "execution_count": null,
   "metadata": {},
   "outputs": [],
   "source": [
    "qry = '''\n",
    "select trip.panid, trip.upc, trip.quantity, trip.wic_june, product.upcdesc, product.category\n",
    "from iri_usda_2019_db.project_q2_purchases trip\n",
    "left join iri_usda.pd_master_all product\n",
    "on product.upc = trip.upc\n",
    "where category like '%BREAD%'\n",
    "'''\n",
    "\n",
    "all_bread = pd.read_sql(qry, conn)"
   ]
  },
  {
   "cell_type": "markdown",
   "metadata": {},
   "source": [
    "### Proportion of 100% whole wheat bread purchases in WIC and WIC-eligible households"
   ]
  },
  {
   "cell_type": "markdown",
   "metadata": {},
   "source": [
    "Let's first subset our `all_bread` table by WIC and WIC-eligible households"
   ]
  },
  {
   "cell_type": "code",
   "execution_count": null,
   "metadata": {},
   "outputs": [],
   "source": [
    "# All bread puchases in WIC-households\n",
    "all_bread_wic = all_bread[all_bread['wic_june'] == 1]\n",
    "\n",
    "# All bread purchases in WIC-eligible households\n",
    "all_bread_wic_eligible = all_bread[all_bread['wic_june'] != 1]"
   ]
  },
  {
   "cell_type": "markdown",
   "metadata": {},
   "source": [
    "Now let's find a proportion of 100% whole wheat bread purchases in WIC households"
   ]
  },
  {
   "cell_type": "code",
   "execution_count": null,
   "metadata": {},
   "outputs": [],
   "source": [
    "# Number of purchases of bread products that contain '100% WHOLE WHEAT' string\n",
    "len(all_bread_wic[all_bread_wic['upcdesc'].str.contains('100% WHOLE WHEAT')])"
   ]
  },
  {
   "cell_type": "code",
   "execution_count": null,
   "metadata": {},
   "outputs": [],
   "source": [
    "# Number of total bread purchases by WIC-households\n",
    "len(all_bread_wic)"
   ]
  },
  {
   "cell_type": "code",
   "execution_count": null,
   "metadata": {},
   "outputs": [],
   "source": [
    "# Find a proportion of 100% WHOLE WHEAT to all bread purchases by WIC-households\n",
    "len(all_bread_wic[all_bread_wic['upcdesc'].str.contains('100% WHOLE WHEAT')]) / len(all_bread_wic) * 100"
   ]
  },
  {
   "cell_type": "markdown",
   "metadata": {},
   "source": [
    "Now let's find a proportion of 100% whole wheat bread purchases by WIC-eligible households"
   ]
  },
  {
   "cell_type": "code",
   "execution_count": null,
   "metadata": {},
   "outputs": [],
   "source": [
    "# Number of 100% WHOLE WHEAT purchases by WIC-eligible households\n",
    "len(all_bread_wic_eligible[all_bread_wic_eligible['upcdesc'].str.contains('100% WHOLE WHEAT')])"
   ]
  },
  {
   "cell_type": "code",
   "execution_count": null,
   "metadata": {},
   "outputs": [],
   "source": [
    "# Number of total bread purchases by WIC-eligible households\n",
    "len(all_bread_wic_eligible)"
   ]
  },
  {
   "cell_type": "code",
   "execution_count": null,
   "metadata": {},
   "outputs": [],
   "source": [
    "# Proportion of 100% WHOLE WHEAT to all bread purchases by WIC-eligible households\n",
    "len(all_bread_wic_eligible[all_bread_wic_eligible['upcdesc'].str.contains('100% WHOLE WHEAT')]) / len(all_bread_wic_eligible) * 100"
   ]
  }
 ],
 "metadata": {
  "kernelspec": {
   "display_name": "py3-ada",
   "language": "python",
   "name": "py3-ada"
  },
  "language_info": {
   "codemirror_mode": {
    "name": "ipython",
    "version": 3
   },
   "file_extension": ".py",
   "mimetype": "text/x-python",
   "name": "python",
   "nbconvert_exporter": "python",
   "pygments_lexer": "ipython3",
   "version": "3.7.3"
  }
 },
 "nbformat": 4,
 "nbformat_minor": 2
}
