{
 "cells": [
  {
   "cell_type": "markdown",
   "metadata": {},
   "source": [
    "### What are WIC households' total expenditures on whole wheat bread?"
   ]
  },
  {
   "cell_type": "markdown",
   "metadata": {},
   "source": [
    "Import libraries and connect to database"
   ]
  },
  {
   "cell_type": "markdown",
   "metadata": {},
   "source": [
    "We will want to join household level data to purchasing data, which is in the `trip_all` table. Let's read that data in."
   ]
  },
  {
   "cell_type": "code",
   "execution_count": null,
   "metadata": {},
   "outputs": [],
   "source": [
    "# pandas-related imports\n",
    "import pandas as pd\n",
    "\n",
    "# database interaction imports\n",
    "from pyathenajdbc import connect"
   ]
  },
  {
   "cell_type": "code",
   "execution_count": null,
   "metadata": {},
   "outputs": [],
   "source": [
    "conn = connect(s3_staging_dir = 's3://usda-iri-2019-queryresults/',\n",
    "               region_name = 'us-gov-west-1',\n",
    "               LogLevel = '0',\n",
    "               workgroup = 'workgroup-iri_usda')"
   ]
  },
  {
   "cell_type": "code",
   "execution_count": null,
   "metadata": {},
   "outputs": [],
   "source": [
    "bread_query = \"\"\"\n",
    "SELECT distinct upc, flavor,upcdesc \n",
    "from iri_usda.pd_pos_all \n",
    "where upcdesc like '%100%' \n",
    "and product in ('FRESH BREAD','HAMBURGER AND HOT DOG BUNS','PITA BREAD','BAGELS/BIALYS','BREAD','ROLL','BUN'\n",
    "    ,'BAGEL')\n",
    "and category = 'FRESH BREAD & ROLLS';\"\"\"\n",
    "\n",
    "bread_df = pd.read_sql(bread_query, conn)\n"
   ]
  },
  {
   "cell_type": "code",
   "execution_count": null,
   "metadata": {},
   "outputs": [],
   "source": [
    "ww_flavor_terms = ['WHOLE','WHEAT','WHOLE WHEAT','GRAIN','OAT']\n",
    "ww_df = bread_df[bread_df.flavor.str.contains('|'.join(ww_flavor_terms))]"
   ]
  },
  {
   "cell_type": "markdown",
   "metadata": {},
   "source": [
    "Now we get the UPC codes."
   ]
  },
  {
   "cell_type": "code",
   "execution_count": null,
   "metadata": {},
   "outputs": [],
   "source": [
    "ww_upc_list = ww_df.upc.unique().tolist()\n",
    "len(ww_upc_list)"
   ]
  },
  {
   "cell_type": "code",
   "execution_count": null,
   "metadata": {},
   "outputs": [],
   "source": [
    "wic_hh_query = \"\"\"\n",
    "SELECT distinct panid \n",
    "from iri_usda_2019_db.project_cohort \n",
    "where projection61k > 0 and wic_june = 1;\"\"\"\n",
    "wic_hh_df = pd.read_sql(wic_hh_query, conn)"
   ]
  },
  {
   "cell_type": "code",
   "execution_count": null,
   "metadata": {},
   "outputs": [],
   "source": [
    "wic_hh_list = wic_hh_df.panid.unique().tolist()"
   ]
  },
  {
   "cell_type": "code",
   "execution_count": null,
   "metadata": {},
   "outputs": [],
   "source": [
    "trip_query = \"\"\"\n",
    "SELECT distinct purdate,panid,mop,upc,dollarspaid \n",
    "from iri_usda.trip_all \n",
    "where year = '2017' and \n",
    "panid in {} and \n",
    "upc in {};\"\"\".format(tuple(wic_hh_list),tuple(ww_upc_list))"
   ]
  },
  {
   "cell_type": "code",
   "execution_count": null,
   "metadata": {},
   "outputs": [],
   "source": [
    "bread_trip_df = pd.read_sql(trip_query,conn)"
   ]
  },
  {
   "cell_type": "code",
   "execution_count": null,
   "metadata": {},
   "outputs": [],
   "source": [
    "joined = pd.merge(wic_hh_df,bread_trip_df, on = 'panid')"
   ]
  },
  {
   "cell_type": "code",
   "execution_count": null,
   "metadata": {},
   "outputs": [],
   "source": [
    "wic_purchases = joined.loc[joined.mop == '7']\n",
    "wic_purchases.shape"
   ]
  },
  {
   "cell_type": "code",
   "execution_count": null,
   "metadata": {},
   "outputs": [],
   "source": [
    "len(wic_purchases.panid.unique().tolist())"
   ]
  },
  {
   "cell_type": "code",
   "execution_count": null,
   "metadata": {},
   "outputs": [],
   "source": [
    "wic_purchases['month'] = wic_purchases['purdate'].apply(lambda x: x.month)"
   ]
  },
  {
   "cell_type": "code",
   "execution_count": null,
   "metadata": {},
   "outputs": [],
   "source": [
    "wic_purchases_sub = wic_purchases[['month','dollarspaid']]"
   ]
  },
  {
   "cell_type": "code",
   "execution_count": null,
   "metadata": {},
   "outputs": [],
   "source": [
    "wic_purchases_agg = wic_purchases_sub.groupby(['month']).sum()\n",
    "wic_purchases_agg"
   ]
  },
  {
   "cell_type": "code",
   "execution_count": null,
   "metadata": {},
   "outputs": [],
   "source": [
    "Import visualization packages\n",
    "import matplotlib.pyplot as plt \n",
    "import seaborn as sn\n",
    "\n",
    "# so images get plotted in the notebook\n",
    "%matplotlib inline"
   ]
  },
  {
   "cell_type": "code",
   "execution_count": null,
   "metadata": {},
   "outputs": [],
   "source": [
    "ax = wic_purchases_agg.plot(figsize = (12, 6))\n",
    "ax.set(ylabel = '$ Spent', title = '$ Spent by WIC-Households on 100% Whole Wheat Bread by month, 2017')\n",
    "ax.get_legend().remove()\n",
    "plt.annotate('Sources: IRI Consumer Network and InfoScan', \n",
    "             xy=(0.75,-0.1));"
   ]
  }
 ],
 "metadata": {
  "kernelspec": {
   "display_name": "py3-ada",
   "language": "python",
   "name": "py3-ada"
  },
  "language_info": {
   "codemirror_mode": {
    "name": "ipython",
    "version": 3
   },
   "file_extension": ".py",
   "mimetype": "text/x-python",
   "name": "python",
   "nbconvert_exporter": "python",
   "pygments_lexer": "ipython3",
   "version": "3.7.3"
  }
 },
 "nbformat": 4,
 "nbformat_minor": 2
}
