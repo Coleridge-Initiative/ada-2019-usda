{
 "cells": [
  {
   "cell_type": "markdown",
   "metadata": {},
   "source": [
    "### What are the prices of nutritionally-eligible food products that are and are not WIC-approved in a given State?"
   ]
  },
  {
   "cell_type": "markdown",
   "metadata": {},
   "source": [
    "**Project focus: differences in the pricing of the 100% whole wheat bread**\n",
    "    - by whether it is WIC-approved or not WIC-approved\n",
    "    - by a type of a store\n",
    "    - by a source of price"
   ]
  },
  {
   "cell_type": "markdown",
   "metadata": {},
   "source": [
    "## Notebook Setup"
   ]
  },
  {
   "cell_type": "code",
   "execution_count": null,
   "metadata": {},
   "outputs": [],
   "source": [
    "# pandas-related imports\n",
    "import pandas as pd\n",
    "\n",
    "# database interaction imports\n",
    "from pyathenajdbc import connect\n",
    "\n",
    "# visualization\n",
    "import matplotlib as plt\n",
    "%matplotlib inline\n",
    "\n",
    "# show full cell content\n",
    "pd.set_option('display.max_colwidth', -1)"
   ]
  },
  {
   "cell_type": "code",
   "execution_count": null,
   "metadata": {},
   "outputs": [],
   "source": [
    "# connection to the database\n",
    "conn = connect(s3_staging_dir = 's3://usda-iri-2019-queryresults/',\n",
    "               region_name = 'us-gov-west-1',\n",
    "               LogLevel = '0',\n",
    "               workgroup = 'workgroup-iri_usda')"
   ]
  },
  {
   "cell_type": "markdown",
   "metadata": {},
   "source": [
    "### Get prices of 100% whole wheat bread in 2017"
   ]
  },
  {
   "cell_type": "markdown",
   "metadata": {},
   "source": [
    "We are interested in the shelf price of 100% whole wheat bread (`dollarspaid` variable in the `trip_all` table)."
   ]
  },
  {
   "cell_type": "code",
   "execution_count": null,
   "metadata": {},
   "outputs": [],
   "source": [
    "qry = '''\n",
    "select dollarspaid, channelid, storename, purdate, deal, price_source, product.upcdesc, quantity, category\n",
    "from iri_usda.trip_all trip\n",
    "join iri_usda.pd_master_all product\n",
    "on trip.upc = product.upc\n",
    "join iri_usda_2019_db.project_q2_cohort demo\n",
    "on demo.panid = trip.panid\n",
    "where trip.year = '2017' AND upcdesc like '%100% WHOLE WHEAT%' AND category like '%BREAD%'\n",
    "'''\n",
    "\n",
    "prices = pd.read_sql(qry, conn)"
   ]
  },
  {
   "cell_type": "code",
   "execution_count": null,
   "metadata": {},
   "outputs": [],
   "source": [
    "prices.head()"
   ]
  },
  {
   "cell_type": "markdown",
   "metadata": {},
   "source": [
    "### WIC-approved and non-WIC approved"
   ]
  },
  {
   "cell_type": "markdown",
   "metadata": {},
   "source": [
    "We will take a look at WIC-approved brands of 100% whole-wheat breads in Indiana."
   ]
  },
  {
   "cell_type": "code",
   "execution_count": null,
   "metadata": {},
   "outputs": [],
   "source": [
    "# The WIC-approved product lists from 2019 are available for some states in the `wic_apl_STATE` table:\n",
    "qry = '''\n",
    "select category_description, subcategory_description, brand, food_description, state\n",
    "from iri_usda.wic_apl_in\n",
    "'''\n",
    "\n",
    "wic_list = pd.read_sql(qry, conn)"
   ]
  },
  {
   "cell_type": "code",
   "execution_count": null,
   "metadata": {},
   "outputs": [],
   "source": [
    "wic_list.head()"
   ]
  },
  {
   "cell_type": "markdown",
   "metadata": {},
   "source": [
    "We filter the `subcategory_description` by the `100% Whole Wheat` string."
   ]
  },
  {
   "cell_type": "code",
   "execution_count": null,
   "metadata": {},
   "outputs": [],
   "source": [
    "wic_brands = wic_list[wic_list['subcategory_description'].str.contains('Bread - 100% Whole Wheat')]"
   ]
  },
  {
   "cell_type": "code",
   "execution_count": null,
   "metadata": {},
   "outputs": [],
   "source": [
    "wic_brands.head()"
   ]
  },
  {
   "cell_type": "markdown",
   "metadata": {},
   "source": [
    "Let's get all unique WIC-approved brand names."
   ]
  },
  {
   "cell_type": "code",
   "execution_count": null,
   "metadata": {},
   "outputs": [],
   "source": [
    "wic_brands['brand'].unique()"
   ]
  },
  {
   "cell_type": "markdown",
   "metadata": {},
   "source": [
    "Now let's check unique brands in our purchase data."
   ]
  },
  {
   "cell_type": "code",
   "execution_count": null,
   "metadata": {},
   "outputs": [],
   "source": [
    "# Get first 30 rows of unique product descriptions from the purchase data\n",
    "prices['upcdesc'].unique()[:30]"
   ]
  },
  {
   "cell_type": "markdown",
   "metadata": {},
   "source": [
    "Check if a specific brand is in the WIC-approved brands list in Indiana."
   ]
  },
  {
   "cell_type": "markdown",
   "metadata": {},
   "source": [
    "The standard practice when comparing strings is to lowercase them (to account for differences in uppercase or lowercase usage). We use here `.lower()` function."
   ]
  },
  {
   "cell_type": "code",
   "execution_count": null,
   "metadata": {},
   "outputs": [],
   "source": [
    "wic_brands['brand'].str.lower().unique()"
   ]
  },
  {
   "cell_type": "markdown",
   "metadata": {},
   "source": [
    "Now we can use `in` to check if something is in the list. It will return a `boolean` value: `True` or `False`.\n",
    "Let's check, for example, the brand that we know is in the list. It should return `True`."
   ]
  },
  {
   "cell_type": "code",
   "execution_count": null,
   "metadata": {},
   "outputs": [],
   "source": [
    "INSERT BREAD in wic_brands['brand'].str.lower().unique()"
   ]
  },
  {
   "cell_type": "markdown",
   "metadata": {},
   "source": [
    "If a bread is not in the list, we can use it as an example of a brand which is not on a WIC-approved list in Indiana."
   ]
  },
  {
   "cell_type": "markdown",
   "metadata": {},
   "source": [
    "Let's compare the prices for a non-WIC approved brand and a WIC-approved brand."
   ]
  },
  {
   "cell_type": "markdown",
   "metadata": {},
   "source": [
    "We can explore the summary statistics for both brands by using `describe` function (`dollarspaid` variable contains the price - see IRI Methodology report for how IRI assigns prices). Explore the dataset, find out the outliers (max or min), investigate the mean and percentiles."
   ]
  },
  {
   "cell_type": "code",
   "execution_count": null,
   "metadata": {},
   "outputs": [],
   "source": [
    "#non-WIC-approved\n",
    "nonWIC_prices = prices[prices['upcdesc'].str.contains(INSERT NON-APPROVED BREAD)]\n",
    "nonWIC_prices.describe()"
   ]
  },
  {
   "cell_type": "code",
   "execution_count": null,
   "metadata": {},
   "outputs": [],
   "source": [
    "# WIC-approved\n",
    "WIC_prices = prices[prices['upcdesc'].str.contains(INSERT APPROVED BREAD)]\n",
    "WIC_prices.describe()"
   ]
  },
  {
   "cell_type": "markdown",
   "metadata": {},
   "source": [
    "### Prices by a type of store"
   ]
  },
  {
   "cell_type": "markdown",
   "metadata": {},
   "source": [
    "We can also compare prices by a type of store."
   ]
  },
  {
   "cell_type": "markdown",
   "metadata": {},
   "source": [
    "For example, if we know that if a specific brand is WIC-approved in a given state, we can filter by all purchases of this brand."
   ]
  },
  {
   "cell_type": "code",
   "execution_count": null,
   "metadata": {},
   "outputs": [],
   "source": [
    "prices_filtered = prices[prices['upcdesc'].str.contains(INSERT WIC-APPROVED BREAD)]"
   ]
  },
  {
   "cell_type": "markdown",
   "metadata": {},
   "source": [
    "Let's see how many unique kinds of bread product this brand has."
   ]
  },
  {
   "cell_type": "code",
   "execution_count": null,
   "metadata": {},
   "outputs": [],
   "source": [
    "prices_filtered['upcdesc'].unique()"
   ]
  },
  {
   "cell_type": "markdown",
   "metadata": {},
   "source": [
    "As this brand has different types of bread product (16 oz, 20 oz, 40 oz), we will find the most popular type to focus on and compare prices across different types of store."
   ]
  },
  {
   "cell_type": "code",
   "execution_count": null,
   "metadata": {},
   "outputs": [],
   "source": [
    "# Find the most popular bread product\n",
    "prices_filtered.groupby('upcdesc').size().reset_index().sort_values(0,ascending=False).head(1)"
   ]
  },
  {
   "cell_type": "markdown",
   "metadata": {},
   "source": [
    "Now we will compare the price of this specific product across different types of stores."
   ]
  },
  {
   "cell_type": "code",
   "execution_count": null,
   "metadata": {},
   "outputs": [],
   "source": [
    "popular_product = prices_filtered.groupby('upcdesc').size().reset_index().sort_values(0,ascending=False).head(1)['upcdesc'].values\n",
    "popular_product_prices = prices_filtered[prices_filtered['upcdesc'].isin(popular_product)]"
   ]
  },
  {
   "cell_type": "markdown",
   "metadata": {},
   "source": [
    "What is the mean price of this product in different types of stores?"
   ]
  },
  {
   "cell_type": "code",
   "execution_count": null,
   "metadata": {},
   "outputs": [],
   "source": [
    "store_desc = pd.DataFrame()\n",
    "store_desc['channelid'] = [1,2,3,4,5,6,7,8]\n",
    "store_desc['description'] = ['Grocery', 'Drug', 'Mass', 'Supercenter', 'Convenience', 'Dollar', 'Club', 'All other']"
   ]
  },
  {
   "cell_type": "code",
   "execution_count": null,
   "metadata": {},
   "outputs": [],
   "source": [
    "store_desc.merge(popular_product_prices.groupby('channelid')['dollarspaid'].mean(),on='channelid').sort_values('dollarspaid',ascending=False)"
   ]
  },
  {
   "cell_type": "markdown",
   "metadata": {},
   "source": [
    "### Differences in prices by a source of price"
   ]
  },
  {
   "cell_type": "markdown",
   "metadata": {},
   "source": [
    "The `price_source` variable indicates whether the prices was assigned through point-of-sale data, entered by the household, or assigned from the price dictionary. Please refer to the IRI report for more description of this variable."
   ]
  },
  {
   "cell_type": "markdown",
   "metadata": {},
   "source": [
    "We can compare differences in prices based on the source of the price of the product."
   ]
  },
  {
   "cell_type": "markdown",
   "metadata": {},
   "source": [
    "Let's check how many unique sources of the price we have for the same bread product as above."
   ]
  },
  {
   "cell_type": "code",
   "execution_count": null,
   "metadata": {},
   "outputs": [],
   "source": [
    "popular_product_prices['price_source'].unique()"
   ]
  },
  {
   "cell_type": "markdown",
   "metadata": {},
   "source": [
    "Let's get the descriptions of those codes and find the difference in prices based on the source of the price.\n",
    "We can look at the mean or median."
   ]
  },
  {
   "cell_type": "code",
   "execution_count": null,
   "metadata": {},
   "outputs": [],
   "source": [
    "prices_desc = pd.DataFrame()\n",
    "prices_desc['price_source'] = [1,2,3]\n",
    "prices_desc['description'] = ['Panelist Input', 'Point Of Sale', 'Dictionary']"
   ]
  },
  {
   "cell_type": "code",
   "execution_count": null,
   "metadata": {},
   "outputs": [],
   "source": [
    "# Getting the mean\n",
    "prices_desc.merge(popular_product_prices.groupby('price_source')['dollarspaid'].mean().reset_index(), on='price_source')"
   ]
  },
  {
   "cell_type": "code",
   "execution_count": null,
   "metadata": {},
   "outputs": [],
   "source": [
    "# Getting the median\n",
    "prices_desc.merge(popular_product_prices.groupby('price_source')['dollarspaid'].median().reset_index(), on='price_source')"
   ]
  }
 ],
 "metadata": {
  "kernelspec": {
   "display_name": "py3-ada",
   "language": "python",
   "name": "py3-ada"
  },
  "language_info": {
   "codemirror_mode": {
    "name": "ipython",
    "version": 3
   },
   "file_extension": ".py",
   "mimetype": "text/x-python",
   "name": "python",
   "nbconvert_exporter": "python",
   "pygments_lexer": "ipython3",
   "version": "3.7.3"
  }
 },
 "nbformat": 4,
 "nbformat_minor": 2
}
