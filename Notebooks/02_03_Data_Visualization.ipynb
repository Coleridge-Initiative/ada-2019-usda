{
 "cells": [
  {
   "cell_type": "markdown",
   "metadata": {},
   "source": [
    "<img style=\"float: center;\" src=\"images/CI_horizontal.png\" width=\"400\">\n",
    "<center>\n",
    "    <span style=\"font-size: 1.5em;\">\n",
    "        <a href='https://www.coleridgeinitiative.org'>Website</a>\n",
    "    </span>\n",
    "</center>\n",
    "\n",
    "_source to be updated when notebook added to GitHub_"
   ]
  },
  {
   "cell_type": "markdown",
   "metadata": {},
   "source": [
    "## Table of Contents\n",
    "JupyterLab contains a dynamic table of contents that can be accessed by clicking the last of the six icons on the left-hand sidebar."
   ]
  },
  {
   "cell_type": "markdown",
   "metadata": {},
   "source": [
    "## Introduction to Data Visualization\n",
    "\n",
    "As discussed in the lecutre, visualization is very effective at conveying information about big, complex datasets. In this module, you will learn to quickly and flexibly make a wide series of visualizations for exploratory data analysis and communicating to your audience. This module contains a practical introduction to data visualization in Python and covers important rules that any data visualizer should follow.\n",
    "\n",
    "\n",
    "#### Learning Objectives\n",
    "* Become familiar with a core base of data visualization tools in Python - specifically `matplotlib` and `seaborn`\n",
    "* Begin exploring what visualizations are going to best reveal various types of patterns in your data\n",
    "* Learn more about our primary datasets data with exploratory analyses and visualizations"
   ]
  },
  {
   "cell_type": "markdown",
   "metadata": {},
   "source": [
    "### Python Setup\n",
    "\n",
    "In this notebook we will use the following Python packages:\n",
    "* `pyathenajdbc`: for interfacing with the Athena data query service to pull our data from the servers\n",
    "* `pandas`: for loading and transforming our data into formats suitable for visualization\n",
    "* `matplotlib`: Python's widely-used, standard visualization library\n",
    "* `seaborn`: Python's higher-level visualization library with some good built-ins\n",
    "* `calendar`: Python's libary for the use of functions related to the calendar\n",
    "* `numpy`: Python's widely-used library for mathematical operations on matrices and arrays"
   ]
  },
  {
   "cell_type": "code",
   "execution_count": null,
   "metadata": {},
   "outputs": [],
   "source": [
    "# pandas-related imports\n",
    "import pandas as pd\n",
    "\n",
    "# Athena interaction imports\n",
    "from pyathenajdbc import connect\n",
    "\n",
    "# visualization packages\n",
    "import matplotlib.pyplot as plt \n",
    "import seaborn as sn\n",
    "\n",
    "#numpy-related imports\n",
    "import numpy as np\n",
    "\n",
    "#date-time related packages\n",
    "import calendar \n",
    "\n",
    "# so images get plotted in the notebook\n",
    "%matplotlib inline"
   ]
  },
  {
   "cell_type": "markdown",
   "metadata": {},
   "source": [
    "### Load the Data\n",
    "\n",
    "The first parameter is the connection to the database. To create a connection we will use the `Pyathenajdbc` package and tell it which database we want to connect to, just like in DBeaver."
   ]
  },
  {
   "cell_type": "markdown",
   "metadata": {},
   "source": [
    "#### Establish a Database Connection"
   ]
  },
  {
   "cell_type": "code",
   "execution_count": null,
   "metadata": {},
   "outputs": [],
   "source": [
    "#Establish a connection with the iri_usda database to access the data\n",
    "conn = connect(s3_staging_dir = 's3://usda-iri-2019-queryresults/',\n",
    "               region_name = 'us-gov-west-1',\n",
    "               LogLevel = '0',\n",
    "               workgroup = 'workgroup-iri_usda')"
   ]
  },
  {
   "cell_type": "markdown",
   "metadata": {
    "toc-hr-collapsed": false
   },
   "source": [
    "## Steps for Producing Visualizations\n",
    "- Collect the necessary data\n",
    "- Process and clean for visualization purposes\n",
    "- Determine the cohort you wish to visualize\n",
    "- Determine the appropriate visualization\n",
    "- Visuzalize using python tools\n"
   ]
  },
  {
   "cell_type": "markdown",
   "metadata": {},
   "source": [
    "For the purpose of these visualization excersizes, we will be using some code cells from the sample project templates. In particular, we will use visualizations to break down the cost of 100% whole wheat bread in different ways. \n",
    "\n",
    "In the first two visualizations, we will analyze temporal changes of the average price of 100% whole wheat bread. But first, we will need to follow the prior steps before we produce this visualization. Thus, we will utiliize the `pd_pos_all` table to collect the upc codes, descriptions and flavors of all bread products. From there, we can identify upc codes pertaining to just 100% whole wheat bread to filter the trip data. \n",
    "\n",
    "> `pd_pos_all` contains a higher level of information on products, as opposed to the in-depth descriptions in the `pd_master_all` table."
   ]
  },
  {
   "cell_type": "code",
   "execution_count": null,
   "metadata": {},
   "outputs": [],
   "source": [
    "#Develop a query to get data related to all bread products\n",
    "bread_query = \"\"\"\n",
    "SELECT distinct upc, flavor, upcdesc \n",
    "from iri_usda.pd_pos_all \n",
    "where product in ('FRESH BREAD','HAMBURGER AND HOT DOG BUNS','PITA BREAD',\n",
    "    'BAGELS/BIALYS','BREAD','ROLL','BUN'\n",
    "    ,'BAGEL')\n",
    "    and category = 'FRESH BREAD & ROLLS'\n",
    "    AND year = '2017'\n",
    "\"\"\"\n",
    "\n",
    "#Write out the query as a pandas df\n",
    "bread_df = pd.read_sql(bread_query, conn)"
   ]
  },
  {
   "cell_type": "code",
   "execution_count": null,
   "metadata": {},
   "outputs": [],
   "source": [
    "#Perform the filter for just whole wheat products\n",
    "ww_df = bread_df[bread_df.flavor.str.contains('100% WHOLE WHEAT')]"
   ]
  },
  {
   "cell_type": "code",
   "execution_count": null,
   "metadata": {},
   "outputs": [],
   "source": [
    "#Create a list of the distinct whole wheat product UPCs (will save for later)\n",
    "ww_upc_list = ww_df.upc.unique().tolist()"
   ]
  },
  {
   "cell_type": "markdown",
   "metadata": {},
   "source": [
    "In the cell below, wic households are being indentified from the `project_q2_cohort` table. `project_q2_cohort` is a table that contains all demographic data on wic eligible and participating households who have sufficient purchasing data in 2017.\n",
    "\n",
    "Please note that you can access self-created tables from the `iri_usda_2019_db` database."
   ]
  },
  {
   "cell_type": "code",
   "execution_count": null,
   "metadata": {},
   "outputs": [],
   "source": [
    "#Develop a query to get data related to exclusively WIC participating households\n",
    "\n",
    "wic_hh_query = \"\"\" \n",
    "SELECT distinct panid \n",
    "from iri_usda_2019_db.project_q2_cohort \n",
    "where wic_june = 1;\"\"\"\n",
    "\n",
    "#Write out the query as a pandas df\n",
    "wic_hh_df = pd.read_sql(wic_hh_query, conn)"
   ]
  },
  {
   "cell_type": "code",
   "execution_count": null,
   "metadata": {},
   "outputs": [],
   "source": [
    "#Create a list of the distinct WIC participating household IDs (will save for later)\n",
    "wic_hh_list = wic_hh_df.panid.unique().tolist()"
   ]
  },
  {
   "cell_type": "markdown",
   "metadata": {},
   "source": [
    "In the cell below, trips for 2017 where an individual `panid` using are being indentified from the `trip_all` table."
   ]
  },
  {
   "cell_type": "code",
   "execution_count": null,
   "metadata": {},
   "outputs": [],
   "source": [
    "# Develop a query to get data related to purchasing information of \n",
    "# iri participants in 2017 using just WIC funds\n",
    "trip_query = \"\"\"\n",
    "SELECT distinct purdate, panid, mop, upc, dollarspaid, quantity \n",
    "from iri_usda.trip_all \n",
    "where year = '2017'\n",
    "and mop = '7'\n",
    "limit 5000000;\"\"\"\n",
    "trip_df = pd.read_sql(trip_query,conn)"
   ]
  },
  {
   "cell_type": "markdown",
   "metadata": {},
   "source": [
    "Now that we have our data collected, we can now merge the datasets to get a data frame with wic receiving households and the date they have purchased whole wheat products using WIC funds"
   ]
  },
  {
   "cell_type": "code",
   "execution_count": null,
   "metadata": {},
   "outputs": [],
   "source": [
    "#Join our purchases df to our wic household df to get purchase information for just wic households\n",
    "wic_trips_df = pd.merge(wic_hh_df,trip_df, on = 'panid')\n",
    "ww_trip_df = pd.merge(wic_trips_df, ww_df[['upc','flavor','upcdesc']], on='upc')\n",
    "ww_trip_df.head()"
   ]
  },
  {
   "cell_type": "code",
   "execution_count": null,
   "metadata": {},
   "outputs": [],
   "source": [
    "#Create a month column by selecting just the month from the purchase data column\n",
    "ww_trip_df['month'] = ww_trip_df['purdate'].apply(lambda x: x.month)\n",
    "\n",
    "#Create a dollars_per_product column by dividing the dollars paid by the quantity of the product purchased \n",
    "ww_trip_df['dollars_per_product'] = ww_trip_df['dollarspaid']/ww_trip_df['quantity']"
   ]
  },
  {
   "cell_type": "code",
   "execution_count": null,
   "metadata": {},
   "outputs": [],
   "source": [
    "#verify month and dollars_per_product columns are created\n",
    "ww_trip_df.columns"
   ]
  },
  {
   "cell_type": "code",
   "execution_count": null,
   "metadata": {},
   "outputs": [],
   "source": [
    "#subset our data to just month and dollarspaid\n",
    "ww_purchase_sub = ww_trip_df[['month','dollars_per_product']]\n",
    "\n",
    "#group our data to get the average price of 100% whole wheat products per each month\n",
    "ww_purchases_mean = ww_purchase_sub.groupby(['month']).mean()\n",
    "ww_purchases_mean.head()"
   ]
  },
  {
   "cell_type": "code",
   "execution_count": null,
   "metadata": {},
   "outputs": [],
   "source": [
    "#Reset the index to use the month column (was initially the index due to the group by month clause in the cell above)\n",
    "ww_pur_mean_cleaned = ww_purchases_mean.reset_index()\n",
    "\n",
    "#convert month number to month name\n",
    "ww_pur_mean_cleaned['month'] =  ww_pur_mean_cleaned['month'].apply(lambda x: calendar.month_name[x])"
   ]
  },
  {
   "cell_type": "markdown",
   "metadata": {},
   "source": [
    "It is time to visualize. We will be using bar and line plots to visualize average cost of whole wheat products purchased through WIC. This is due to both being able to visualize data over time."
   ]
  },
  {
   "cell_type": "code",
   "execution_count": null,
   "metadata": {},
   "outputs": [],
   "source": [
    "# Create our bar plot\n",
    "# start each figure with fig = plt.figure() to create the space \n",
    "# for your visualization\n",
    "# <text>\\n<text> as seen in 'Bread\\namong' in \n",
    "# the title indidcates a line break so your title can \n",
    "# fit above your graph\n",
    "fig = plt.figure()\n",
    "ax = ww_pur_mean_cleaned.plot.bar(x='month',y='dollars_per_product', \n",
    "     title = 'Average Monthly Spending on Whole Wheat Bread\\namong WIC Households per Trip',\n",
    "     legend = False)\n",
    "#set the x-axis label\n",
    "ax.set_xlabel('Month')\n",
    "\n",
    "#set the y-axis label\n",
    "ax.set_ylabel('Dollars per Whole Wheat Product Purchased');"
   ]
  },
  {
   "cell_type": "markdown",
   "metadata": {},
   "source": [
    "Bar plots are great for visualizing over time. However, seeing the difference in values over time may be difficult if values are so similar, so we can visualize the same data using a line plot as well."
   ]
  },
  {
   "cell_type": "code",
   "execution_count": null,
   "metadata": {},
   "outputs": [],
   "source": [
    "#create our line plot\n",
    "fig = plt.figure()\n",
    "ax = ww_pur_mean_cleaned.plot(x='month',y='dollars_per_product', \n",
    "                                title = 'Average Monthly Spending on Whole Wheat Bread\\namong WIC Households per Trip',\n",
    "                              legend = False, rot = 90)\n",
    "ax.set_xlabel('Month')\n",
    "ax.set_ylabel('Dollars per Whole Wheat Product Purchased')"
   ]
  },
  {
   "cell_type": "markdown",
   "metadata": {},
   "source": [
    "We will now look average amount spent, per trip, on both 100% whole wheat and other bread products. To do that, we plan to use box and whisker plots. These plots are great for visualizing descriptive stats about the data.\n",
    "\n",
    "The box have the upper and lower quartile bounds and a median line found within the box. The median line indicates the median value found within the data. They have 'whiskers' that indicate the upper and lower bounds of the data (excluding statistical outliers). "
   ]
  },
  {
   "cell_type": "code",
   "execution_count": null,
   "metadata": {},
   "outputs": [],
   "source": [
    "#Create a df of bread purchases\n",
    "bread_trip_df = pd.merge(wic_trips_df, bread_df[['upc','flavor','upcdesc']], on='upc')\n",
    "\n",
    "#Create boolean (1 meaning yes, 0 meaning no) for products that are 100% whole wheat\n",
    "bread_trip_df['whole_wheat_flag'] = bread_trip_df.flavor.str.contains(\"100% WHOLE WHEAT\")"
   ]
  },
  {
   "cell_type": "code",
   "execution_count": null,
   "metadata": {},
   "outputs": [],
   "source": [
    "#Create a dollars_per_product column by dividing the dollars paid by the quantity of the product purchased \n",
    "bread_trip_df['dollars_per_product'] = bread_trip_df['dollarspaid']/bread_trip_df['quantity']"
   ]
  },
  {
   "cell_type": "code",
   "execution_count": null,
   "metadata": {},
   "outputs": [],
   "source": [
    "bread_trip_df['product'] = bread_trip_df['whole_wheat_flag'].replace(True,'100% Whole Wheat Product').replace(False,'Other Bread Product')"
   ]
  },
  {
   "cell_type": "code",
   "execution_count": null,
   "metadata": {},
   "outputs": [],
   "source": [
    "#subset to just the flag and the dollars spents on the bread products\n",
    "bread_trip_df_sub =  bread_trip_df[['product','dollars_per_product']]"
   ]
  },
  {
   "cell_type": "code",
   "execution_count": null,
   "metadata": {},
   "outputs": [],
   "source": [
    "#create a boxplot\n",
    "fig = plt.figure()\n",
    "ax = bread_trip_df_sub.boxplot(by='product')\n",
    "\n",
    "#set the title\n",
    "ax.set_title('Boxplots of Prices of Bread Poducts\\nwith and without the Whole Wheat Flag')\n",
    "\n",
    "#Create axes same as before\n",
    "ax.set_xlabel(\"Product\")\n",
    "ax.set_ylabel(\"Dollars per Whole Wheat Product Purchased\")\n",
    "\n",
    "#removes the subtitle \n",
    "plt.suptitle(\"\")"
   ]
  },
  {
   "cell_type": "markdown",
   "metadata": {},
   "source": [
    "The boxplot above is descriptive. However, there is plenty of clutter that can be distracting. Let's remove outliers and grid lines that appear in the plot to make our results more clear."
   ]
  },
  {
   "cell_type": "code",
   "execution_count": null,
   "metadata": {},
   "outputs": [],
   "source": [
    "#Create the same boxplot without the grid or outliers\n",
    "fig = plt.figure()\n",
    "ax = bread_trip_df_sub.boxplot(by='product', grid=False, showfliers=False)\n",
    "ax.set_title('Boxplots of Prices of Bread Poducts\\nwith and without the Whole Wheat Flag\\nWithout Outliers')\n",
    "ax.set_xlabel(\"Product\")\n",
    "ax.set_ylabel(\"Dollars per Whole Wheat Product Purchased\")\n",
    "plt.suptitle(\"\")"
   ]
  },
  {
   "cell_type": "markdown",
   "metadata": {},
   "source": [
    "We have now gone through some examples of visualizing values over time and descriptive statistics. One last thing we should cover is choosing the best visualization for numeric data. \n",
    "\n",
    "### Visualize average expenditures by household size\n",
    "\n",
    "Here we will compare two visualizations of the average amount of money spent on 100% whole wheat bread in 2017 across families of different sizes."
   ]
  },
  {
   "cell_type": "code",
   "execution_count": null,
   "metadata": {},
   "outputs": [],
   "source": [
    "# reminder of the DataFrame of UPC codes for 100% whole wheat bread\n",
    "# we created above\n",
    "ww_df.head()"
   ]
  },
  {
   "cell_type": "code",
   "execution_count": null,
   "metadata": {},
   "outputs": [],
   "source": [
    "# put all the UPC codes as a single Python string \n",
    "# (but long list of values) to use in our SQL query\n",
    "ww_upcs = ','.join([\"'\"+upc+\"'\" for upc in ww_df['upc'].unique()])"
   ]
  },
  {
   "cell_type": "code",
   "execution_count": null,
   "metadata": {},
   "outputs": [],
   "source": [
    "# print what that \"object\" looks like\n",
    "ww_upcs"
   ]
  },
  {
   "cell_type": "code",
   "execution_count": null,
   "metadata": {},
   "outputs": [],
   "source": [
    "# summarize bread purchases of our cohort in 2017\n",
    "\n",
    "query = '''\n",
    "select demo.hhsize, demo.panid, \n",
    "    sum(trip.dollarspaid - trip.coupon) as total_spent_ww\n",
    "FROM iri_usda.demo_all demo\n",
    "join iri_usda.trip_all trip \n",
    "on trip.panid = demo.panid\n",
    "where demo.year = '2017' \n",
    "    AND demo.panid IN (SELECT panid FROM iri_usda_2019_db.panid_expense)\n",
    "    AND trip.year = '2017'\n",
    "    AND trip.panid IN (SELECT panid FROM iri_usda_2019_db.panid_expense)\n",
    "    AND trip.upc IN ({})\n",
    "group by demo.hhsize, demo.panid\n",
    "'''.format(ww_upcs)\n",
    "df = pd.read_sql(query, conn)"
   ]
  },
  {
   "cell_type": "markdown",
   "metadata": {},
   "source": [
    "Key points in above query:\n",
    "1. get `hhsize` from the demographic table for just our WIC subset cohort\n",
    "2. subset the `trip` table to just the year, list of panid in our cohort, and UPCs that are 100% WHOLE WHEAT\n",
    "3. Sum total purchases across the year for each household"
   ]
  },
  {
   "cell_type": "code",
   "execution_count": null,
   "metadata": {},
   "outputs": [],
   "source": [
    "# view what that data looks like\n",
    "df.head()"
   ]
  },
  {
   "cell_type": "code",
   "execution_count": null,
   "metadata": {},
   "outputs": [],
   "source": [
    "# calculate expenditure per person\n",
    "df['ww_spent_person'] = df['total_spent_ww']/df['hhsize']"
   ]
  },
  {
   "cell_type": "code",
   "execution_count": null,
   "metadata": {},
   "outputs": [],
   "source": [
    "# summary stats of 100% whole wheat bread expenditures by HH size\n",
    "df.groupby('hhsize')['ww_spent_person'].describe()"
   ]
  },
  {
   "cell_type": "code",
   "execution_count": null,
   "metadata": {},
   "outputs": [],
   "source": [
    "# Perform a groupby to get the mean amount spent on \n",
    "# 100% whole wheat bread by household size \n",
    "hh_ww_pur_agg = df.groupby('hhsize').mean()"
   ]
  },
  {
   "cell_type": "code",
   "execution_count": null,
   "metadata": {},
   "outputs": [],
   "source": [
    "#reset the index after the groupby, as done previously\n",
    "hh_ww_pur_cleaned = hh_ww_pur_agg.reset_index()"
   ]
  },
  {
   "cell_type": "code",
   "execution_count": null,
   "metadata": {},
   "outputs": [],
   "source": [
    "#plot the pie plot\n",
    "fig = plt.figure()\n",
    "pie_plot = hh_ww_pur_agg.plot.pie(y='ww_spent_person', figsize =(10,10))\n",
    "pie_plot.set_title('Average Amount of Money Spent per Person on 100% Whole Wheat Bread by Household Size in 2017')\n",
    "pie_plot.set_ylabel('Dollars per Person')"
   ]
  },
  {
   "cell_type": "markdown",
   "metadata": {},
   "source": [
    "As we can see, the visualization above is not all that telling. It will be difficult to determine how much a person, on average, in an eight-person household spends a 100% whole wheat bread by interpreting the arc length or angle size. A bar plot is a much more appropriate visualization for this."
   ]
  },
  {
   "cell_type": "code",
   "execution_count": null,
   "metadata": {},
   "outputs": [],
   "source": [
    "#Create the bar plot\n",
    "fig = plt.figure()\n",
    "ax = hh_ww_pur_cleaned.plot.bar(x='hhsize',y='ww_spent_person', \n",
    "     title = 'Average Amount Spent on 100% Whole Wheat Bread\\nby Household Size in 2017',\n",
    "                                     legend = False, rot = 90)\n",
    "ax.set_ylabel('Average Dollars Spent per Person')\n",
    "ax.set_xlabel('Household Size')"
   ]
  }
 ],
 "metadata": {
  "kernelspec": {
   "display_name": "py3-ada",
   "language": "python",
   "name": "py3-ada"
  },
  "language_info": {
   "codemirror_mode": {
    "name": "ipython",
    "version": 3
   },
   "file_extension": ".py",
   "mimetype": "text/x-python",
   "name": "python",
   "nbconvert_exporter": "python",
   "pygments_lexer": "ipython3",
   "version": "3.7.3"
  },
  "toc-showmarkdowntxt": false
 },
 "nbformat": 4,
 "nbformat_minor": 2
}
