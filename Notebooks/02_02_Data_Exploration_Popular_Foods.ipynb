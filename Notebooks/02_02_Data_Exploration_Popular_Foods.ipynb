{
 "cells": [
  {
   "cell_type": "markdown",
   "metadata": {},
   "source": [
    "<img style=\"float: center;\" src=\"images/CI_horizontal.png\" width=\"600\">\n",
    "<center>\n",
    "    <span style=\"font-size: 1.5em;\">\n",
    "        <a href='https://www.coleridgeinitiative.org'>Website</a>\n",
    "    </span>\n",
    "</center>\n",
    "\n",
    "Ghani, Rayid, Frauke Kreuter, Julia Lane, Adrianne Bradford, Alex Engler, Nicolas Guetta Jeanrenaud, Graham Henke, Daniela Hochfellner, Clayton Hunter, Brian Kim, Avishek Kumar, Jonathan Morgan, Ursula Kaczmarek, Benjamin Feder.\n",
    "\n",
    "_source to be updated when notebook added to GitHub_"
   ]
  },
  {
   "cell_type": "markdown",
   "metadata": {},
   "source": [
    "# Dataset Exploration\n",
    "----------"
   ]
  },
  {
   "cell_type": "markdown",
   "metadata": {
    "toc-hr-collapsed": false
   },
   "source": [
    "# Table of Contents\n",
    "\n",
    "JupyterLab contains a dynamic Table of Contents that can be accessed by clicking the last of the six icons on the left-hand sidebar."
   ]
  },
  {
   "cell_type": "markdown",
   "metadata": {},
   "source": [
    "## Access the Data"
   ]
  },
  {
   "cell_type": "code",
   "execution_count": null,
   "metadata": {},
   "outputs": [],
   "source": [
    "# pandas-related imports\n",
    "import pandas as pd\n",
    "\n",
    "# database interaction imports\n",
    "from pyathenajdbc import connect"
   ]
  },
  {
   "cell_type": "code",
   "execution_count": null,
   "metadata": {},
   "outputs": [],
   "source": [
    "conn = connect(s3_staging_dir = 's3://usda-iri-2019-queryresults/',\n",
    "               region_name = 'us-gov-west-1',\n",
    "               LogLevel = '0',\n",
    "               workgroup = 'workgroup-iri_usda')"
   ]
  },
  {
   "cell_type": "markdown",
   "metadata": {},
   "source": [
    "## Analysis: Using Python and SQL\n",
    "\n",
    "__Do WIC households purchase similar foods compared to households that are WIC-eligible but not participants in 2017?__\n",
    "\n",
    "To find the answers to these questions, we will need to combine the demographics and trips data with another available dataset. Our process will work as follows:\n",
    "\n",
    "- Explore the available data tables\n",
    "- Check out Demographics and Trips tables in the context of WIC eligibility\n",
    "- Join datasets\n",
    "- Join with third dataset\n",
    "- Answer questions"
   ]
  },
  {
   "cell_type": "markdown",
   "metadata": {},
   "source": [
    "__Necessary data__:\n",
    "- `iri_usda.demo_all`: individual household demographics data\n",
    "- `iri_usda.trip_all`: individual purchase data for every item that every household purchased\n",
    "- `iri_usda.pd_pos_all`: comprehensive product data"
   ]
  },
  {
   "cell_type": "markdown",
   "metadata": {},
   "source": [
    "## Demographics Table\n",
    "\n",
    "Similar to the first data exploration notebook, we will start sifting through `iri_usda.demo_all` to help answer our guiding question."
   ]
  },
  {
   "cell_type": "markdown",
   "metadata": {},
   "source": [
    "Let's explore a few specific questions to better understand our data in 2017:\n",
    "\n",
    "- How many households are already enrolled in the WIC program and have sufficient purchase data? \n",
    "- How can we determine if a household is WIC-eligible based on the provided data?\n",
    "- How many households with sufficient purchase data are WIC-eligible but aren't enrolled?"
   ]
  },
  {
   "cell_type": "code",
   "execution_count": null,
   "metadata": {},
   "outputs": [],
   "source": [
    "# count of households with sufficient purchase data in WIC program in 2017\n",
    "query = '''\n",
    "SELECT count(*) as wic_households\n",
    "FROM iri_usda.demo_all\n",
    "WHERE wic_june = 1 and year = '2017' and projection61k > 0;\n",
    "'''\n",
    "\n",
    "pd.read_sql(query, conn)"
   ]
  },
  {
   "cell_type": "markdown",
   "metadata": {},
   "source": [
    "If you search for the requirements for WIC eligibility, you will see that there are four categories:\n",
    "\n",
    "1. Cateogrical\n",
    "2. Residential\n",
    "3. Income\n",
    "4. Nutrition Risk\n",
    "\n",
    "Given the data and general knowledge of the households, we cannot answer as to whether or not they are deemed a nutritional risk. However, we can find households that with young children and we have household size to income data. Thus, we will do our best to estimate which households may be WIC-eligible. To do so, we will need to examine three variables in the `iri_usda.demo_all` dataset: `ac`, `hhsize`, and `hhinc`. We are using the available 2017-18 income guidelines for WIC households as per WIC Policy Memo #2017-3. "
   ]
  },
  {
   "cell_type": "code",
   "execution_count": null,
   "metadata": {},
   "outputs": [],
   "source": [
    "# number of non-wic but income-eligible participants with sufficient purchase data in 2017\n",
    "query = \"\"\"\n",
    "SELECT count(*) as wic_eligible\n",
    "FROM iri_usda.demo_all\n",
    "WHERE ac in (1,4,5,7) and \n",
    "    (\n",
    "    (hhinc <= 5 and hhsize = 1) or (hhinc = 6 and hhsize < 3) or (hhinc = 7 and hhsize < 4) or \n",
    "    (hhinc = 8 and hhsize < 5) or (hhinc = 9 and hhsize < 6) or (hhinc = 10 and hhsize < 8) or \n",
    "    (hhinc = 11 and hhsize = 8)\n",
    "    ) \n",
    "    and wic_june != 1 and year = '2017' and projection61k > 0;\n",
    "\"\"\"\n",
    "\n",
    "df = pd.read_sql(query, conn)\n",
    "\n",
    "df.head()"
   ]
  },
  {
   "cell_type": "markdown",
   "metadata": {},
   "source": [
    "In the context of the guiding question, we only need to focus on households that are either enrolled in the WIC program in 2017 or were wic-eligible to the best of our knowledge in 2017. To make things easier and quicker, we already created a table `project_q2_cohort` in the `iri_usda_2019_db` database that contains demographic data for just this select group of households in 2017 with sufficient purchasing data. The code used to create this table is shown below.\n",
    "\n",
    "> Note: We will not be applying the weights to individual product quantities here because the weights were not constructed on the product level."
   ]
  },
  {
   "cell_type": "markdown",
   "metadata": {},
   "source": [
    "    create table iri_usda_2019_db.project_q2_cohort\n",
    "        with(\n",
    "        format = 'Parquet',\n",
    "        parquet_compression = 'SNAPPY'\n",
    "        )\n",
    "        as\n",
    "        SELECT *\n",
    "        FROM iri_usda.demo_all\n",
    "        WHERE ((ac in (1,4,5,7) and \n",
    "        (\n",
    "        (hhinc <= 5 and hhsize = 1) or (hhinc <= 6 and hhsize = 2) or (hhinc <= 7 and hhsize = 3) or \n",
    "        (hhinc <= 8 and hhsize = 4) or (hhinc <= 9 and hhsize = 5) or (hhinc <= 10 and hhsize = 6) or \n",
    "            (hhinc <= 11 and (hhsize = 8 or hhsize = 7))\n",
    "        ) \n",
    "        and wic_june != 1) or wic_june = 1) and year = '2017' and projection61k > 0;"
   ]
  },
  {
   "cell_type": "markdown",
   "metadata": {},
   "source": [
    "## Revisiting Trip Data and Join to Cohort\n",
    "\n",
    "Since we've already gone through the trip data once before, we will start with finding close to what we need: _How can we find the most popular goods in 2017?_ \n",
    "\n",
    "Afterwards, we can write code outputting the most popular goods in 2017 for WIC households with sufficient purchase data."
   ]
  },
  {
   "cell_type": "code",
   "execution_count": null,
   "metadata": {},
   "outputs": [],
   "source": [
    "# get entries of 10 most popular goods\n",
    "query = \"\"\"\n",
    "SELECT upc, sum(quantity) as total \n",
    "FROM iri_usda.trip_all\n",
    "WHERE year = '2017'\n",
    "GROUP BY upc\n",
    "ORDER BY total desc\n",
    "LIMIT 10\n",
    "\"\"\"\n",
    "# print results\n",
    "df = pd.read_sql(query, conn)\n",
    "\n",
    "print(df.head())"
   ]
  },
  {
   "cell_type": "code",
   "execution_count": null,
   "metadata": {},
   "outputs": [],
   "source": [
    "# joining data to get 10 most popular upc codes for WIC households with sufficient purchasing data in 2017\n",
    "\n",
    "query = \"\"\"\n",
    "SELECT trip.upc, sum(trip.quantity) as total\n",
    "FROM iri_usda_2019_db.project_q2_cohort demo\n",
    "LEFT JOIN iri_usda.trip_all trip\n",
    "ON trip.panid = demo.panid \n",
    "WHERE demo.wic_june = 1 and trip.year = '2017'\n",
    "GROUP BY trip.upc\n",
    "ORDER BY total desc \n",
    "LIMIT 10;\n",
    "\"\"\"\n",
    "# display result\n",
    "pd.read_sql(query, conn)"
   ]
  },
  {
   "cell_type": "markdown",
   "metadata": {},
   "source": [
    "<font color=red><h2>Checkpoint 1: Popular Goods </h2></font>\n",
    "\n",
    "Given the code above, how can you find the upc codes corresponding to the 10 most popular goods for WIC-eligible households with sufficient purchase data? **Discuss with your group.**"
   ]
  },
  {
   "cell_type": "code",
   "execution_count": null,
   "metadata": {},
   "outputs": [],
   "source": [
    "# get entries of 10 most popular upc codes for wic-eligible households with sufficient purchasing data in 2017"
   ]
  },
  {
   "cell_type": "markdown",
   "metadata": {},
   "source": [
    "## Product Descriptions\n",
    "\n",
    "How can we find the descriptions of these most popular goods?\n",
    "\n",
    "We will need to join the purchasing dataset with `iri_usda.pd_pos_all`, which contains the product descriptions for each `upc` provided. Having the descriptions of these goods for our two cohorts will give us a better idea of what each group purchases the most, rather than just referring to the goods by their upc codes. The variable in `pd_pos_all` that contains the product descriptions corresponding to the upc codes is `upcdesc`.\n",
    "\n",
    "First, we will make sure we can join `trip_all` to `pd_pos_all` before getting the corresponding descriptions of the 100 most popular products for our two cohorts.\n",
    "\n",
    "> Note: We created two tables, `pop_upc_wic` and `pop_upc_eligible` in the `iri_usda_2019_db` database for you that contain the 100 most popular products in 2017 for wic-participant and wic-eligible households, respectively, with sufficient purchasing data."
   ]
  },
  {
   "cell_type": "code",
   "execution_count": null,
   "metadata": {},
   "outputs": [],
   "source": [
    "# join trip_all and pd_pos_all\n",
    "query = '''\n",
    "select trip.upc, product.upcdesc\n",
    "from iri_usda.trip_all trip\n",
    "left join iri_usda.pd_pos_all product\n",
    "on product.upc = trip.upc\n",
    "limit 10\n",
    "'''\n",
    "\n",
    "pd.read_sql(query, conn)"
   ]
  },
  {
   "cell_type": "code",
   "execution_count": null,
   "metadata": {},
   "outputs": [],
   "source": [
    "# explore pop_upc_wic\n",
    "qry = '''\n",
    "select *\n",
    "from iri_usda_2019_db.pop_upc_wic\n",
    "limit 10\n",
    "'''\n",
    "\n",
    "pd.read_sql(qry, conn)"
   ]
  },
  {
   "cell_type": "code",
   "execution_count": null,
   "metadata": {},
   "outputs": [],
   "source": [
    "# explore pop_upc_eligible\n",
    "qry = '''\n",
    "select *\n",
    "from iri_usda_2019_db.pop_upc_eligible\n",
    "limit 10\n",
    "'''\n",
    "\n",
    "pd.read_sql(qry, conn)"
   ]
  },
  {
   "cell_type": "code",
   "execution_count": null,
   "metadata": {},
   "outputs": [],
   "source": [
    "# find names for 100 most popular goods for wic households with sufficient purchase data in 2017\n",
    "query = '''\n",
    "select distinct wic.upc, wic.total, product.upcdesc\n",
    "from iri_usda_2019_db.pop_upc_wic wic\n",
    "left join iri_usda.pd_pos_all product\n",
    "on wic.upc = product.upc\n",
    "where product.upcdesc != ''\n",
    "'''\n",
    "\n",
    "pd.read_sql(query, conn)"
   ]
  },
  {
   "cell_type": "markdown",
   "metadata": {},
   "source": [
    "<font color=red><h2>Checkpoint 2: Reality Check </h2></font>\n",
    "\n",
    "Recreate the same table for non-WIC but WIC-eligible households. Do the most popular goods vary between the two groups?\n",
    "Do the results make sense to you? Why or why not? **Discuss with your group.**"
   ]
  },
  {
   "cell_type": "code",
   "execution_count": null,
   "metadata": {},
   "outputs": [],
   "source": [
    "# find names for 100 most popular goods for WIC-eligible households with sufficient purchase data in 2017\n",
    "query = '''\n",
    "INSERT QUERY\n",
    "'''\n",
    "\n",
    "pd.read_sql(query, conn)"
   ]
  },
  {
   "cell_type": "markdown",
   "metadata": {},
   "source": [
    "__Moving Forward__"
   ]
  },
  {
   "cell_type": "markdown",
   "metadata": {},
   "source": [
    "Based off of the guiding questions in these notebooks, we will extend these analyses a bit further in the sample project notebooks."
   ]
  }
 ],
 "metadata": {
  "kernelspec": {
   "display_name": "Python 3",
   "language": "python",
   "name": "python3"
  },
  "language_info": {
   "codemirror_mode": {
    "name": "ipython",
    "version": 3
   },
   "file_extension": ".py",
   "mimetype": "text/x-python",
   "name": "python",
   "nbconvert_exporter": "python",
   "pygments_lexer": "ipython3",
   "version": "3.7.3"
  },
  "toc-showcode": false,
  "toc-showmarkdowntxt": false,
  "toc-showtags": false
 },
 "nbformat": 4,
 "nbformat_minor": 2
}
